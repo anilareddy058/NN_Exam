{
 "cells": [
  {
   "cell_type": "code",
   "execution_count": 218,
   "id": "4d8a59f1",
   "metadata": {},
   "outputs": [],
   "source": [
    "#import all dependencies\n",
    "from sklearn import preprocessing\n",
    "import seaborn as sns\n",
    "import numpy as np\n",
    "import pandas as pd\n",
    "import matplotlib.pyplot as plt\n",
    "import tensorflow as tf\n",
    "from tensorflow import keras\n",
    "from tensorflow.keras import layers\n",
    "from sklearn.model_selection import train_test_split\n",
    "import tensorflow.keras\n",
    "#from tensorflow.keras.datasets import mnist\n",
    "from tensorflow.keras import datasets\n",
    "from tensorflow.keras.models import Sequential\n",
    "from tensorflow.keras.layers import LSTM, Dense, Dropout, LSTM, BatchNormalization\n",
    "from tensorflow.keras.optimizers import Adam\n",
    "from tensorflow.keras import layers\n",
    "from sklearn.preprocessing import LabelEncoder\n",
    "from tensorflow.keras.utils import to_categorical"
   ]
  },
  {
   "cell_type": "code",
   "execution_count": 219,
   "id": "b7658d51",
   "metadata": {},
   "outputs": [
    {
     "name": "stdout",
     "output_type": "stream",
     "text": [
      "      LABEL  according  agency  ahead  alabama  amazon  america  american  \\\n",
      "0  politics          0       0      0        0       0        0         0   \n",
      "1  politics          0       0      0        0       0        0         0   \n",
      "2  politics          0       0      0        0       0        0         0   \n",
      "3  politics          0       0      0        0       0        0         0   \n",
      "4  politics          0       0      0        0       0        0         0   \n",
      "\n",
      "   announced  appeared  ...  wolverines  women  work  working  world  wrote  \\\n",
      "0          1         0  ...           0      0     0        0      0      0   \n",
      "1          0         0  ...           0      0     0        0      0      0   \n",
      "2          0         0  ...           0      0     0        0      0      0   \n",
      "3          0         0  ...           0      0     0        0      0      0   \n",
      "4          0         0  ...           0      0     0        0      0      0   \n",
      "\n",
      "   year  years  york  young  \n",
      "0     0      0     0      0  \n",
      "1     0      1     0      0  \n",
      "2     0      0     0      0  \n",
      "3     0      0     0      0  \n",
      "4     0      0     0      0  \n",
      "\n",
      "[5 rows x 301 columns]\n"
     ]
    }
   ],
   "source": [
    "#read the file\n",
    "df=pd.read_csv('/Users/anilareddy/Downloads/Final_News_DF_Labeled_ExamDataset.csv')\n",
    "print(df.head())\n",
    "df.to_csv(\"Labeled_News_Data_from_API.csv\")"
   ]
  },
  {
   "cell_type": "code",
   "execution_count": 220,
   "id": "6ec919d2",
   "metadata": {},
   "outputs": [],
   "source": [
    "x = df.drop('LABEL', axis=1)  # Features\n",
    "y = df['LABEL'].values  # Target variable"
   ]
  },
  {
   "cell_type": "code",
   "execution_count": 221,
   "id": "c2bc31b4",
   "metadata": {},
   "outputs": [
    {
     "data": {
      "text/html": [
       "<div>\n",
       "<style scoped>\n",
       "    .dataframe tbody tr th:only-of-type {\n",
       "        vertical-align: middle;\n",
       "    }\n",
       "\n",
       "    .dataframe tbody tr th {\n",
       "        vertical-align: top;\n",
       "    }\n",
       "\n",
       "    .dataframe thead th {\n",
       "        text-align: right;\n",
       "    }\n",
       "</style>\n",
       "<table border=\"1\" class=\"dataframe\">\n",
       "  <thead>\n",
       "    <tr style=\"text-align: right;\">\n",
       "      <th></th>\n",
       "      <th>according</th>\n",
       "      <th>agency</th>\n",
       "      <th>ahead</th>\n",
       "      <th>alabama</th>\n",
       "      <th>amazon</th>\n",
       "      <th>america</th>\n",
       "      <th>american</th>\n",
       "      <th>announced</th>\n",
       "      <th>appeared</th>\n",
       "      <th>apple</th>\n",
       "      <th>...</th>\n",
       "      <th>wolverines</th>\n",
       "      <th>women</th>\n",
       "      <th>work</th>\n",
       "      <th>working</th>\n",
       "      <th>world</th>\n",
       "      <th>wrote</th>\n",
       "      <th>year</th>\n",
       "      <th>years</th>\n",
       "      <th>york</th>\n",
       "      <th>young</th>\n",
       "    </tr>\n",
       "  </thead>\n",
       "  <tbody>\n",
       "    <tr>\n",
       "      <th>0</th>\n",
       "      <td>0</td>\n",
       "      <td>0</td>\n",
       "      <td>0</td>\n",
       "      <td>0</td>\n",
       "      <td>0</td>\n",
       "      <td>0</td>\n",
       "      <td>0</td>\n",
       "      <td>1</td>\n",
       "      <td>0</td>\n",
       "      <td>0</td>\n",
       "      <td>...</td>\n",
       "      <td>0</td>\n",
       "      <td>0</td>\n",
       "      <td>0</td>\n",
       "      <td>0</td>\n",
       "      <td>0</td>\n",
       "      <td>0</td>\n",
       "      <td>0</td>\n",
       "      <td>0</td>\n",
       "      <td>0</td>\n",
       "      <td>0</td>\n",
       "    </tr>\n",
       "    <tr>\n",
       "      <th>1</th>\n",
       "      <td>0</td>\n",
       "      <td>0</td>\n",
       "      <td>0</td>\n",
       "      <td>0</td>\n",
       "      <td>0</td>\n",
       "      <td>0</td>\n",
       "      <td>0</td>\n",
       "      <td>0</td>\n",
       "      <td>0</td>\n",
       "      <td>0</td>\n",
       "      <td>...</td>\n",
       "      <td>0</td>\n",
       "      <td>0</td>\n",
       "      <td>0</td>\n",
       "      <td>0</td>\n",
       "      <td>0</td>\n",
       "      <td>0</td>\n",
       "      <td>0</td>\n",
       "      <td>1</td>\n",
       "      <td>0</td>\n",
       "      <td>0</td>\n",
       "    </tr>\n",
       "    <tr>\n",
       "      <th>2</th>\n",
       "      <td>0</td>\n",
       "      <td>0</td>\n",
       "      <td>0</td>\n",
       "      <td>0</td>\n",
       "      <td>0</td>\n",
       "      <td>0</td>\n",
       "      <td>0</td>\n",
       "      <td>0</td>\n",
       "      <td>0</td>\n",
       "      <td>0</td>\n",
       "      <td>...</td>\n",
       "      <td>0</td>\n",
       "      <td>0</td>\n",
       "      <td>0</td>\n",
       "      <td>0</td>\n",
       "      <td>0</td>\n",
       "      <td>0</td>\n",
       "      <td>0</td>\n",
       "      <td>0</td>\n",
       "      <td>0</td>\n",
       "      <td>0</td>\n",
       "    </tr>\n",
       "    <tr>\n",
       "      <th>3</th>\n",
       "      <td>0</td>\n",
       "      <td>0</td>\n",
       "      <td>0</td>\n",
       "      <td>0</td>\n",
       "      <td>0</td>\n",
       "      <td>0</td>\n",
       "      <td>0</td>\n",
       "      <td>0</td>\n",
       "      <td>0</td>\n",
       "      <td>0</td>\n",
       "      <td>...</td>\n",
       "      <td>0</td>\n",
       "      <td>0</td>\n",
       "      <td>0</td>\n",
       "      <td>0</td>\n",
       "      <td>0</td>\n",
       "      <td>0</td>\n",
       "      <td>0</td>\n",
       "      <td>0</td>\n",
       "      <td>0</td>\n",
       "      <td>0</td>\n",
       "    </tr>\n",
       "    <tr>\n",
       "      <th>4</th>\n",
       "      <td>0</td>\n",
       "      <td>0</td>\n",
       "      <td>0</td>\n",
       "      <td>0</td>\n",
       "      <td>0</td>\n",
       "      <td>0</td>\n",
       "      <td>0</td>\n",
       "      <td>0</td>\n",
       "      <td>0</td>\n",
       "      <td>0</td>\n",
       "      <td>...</td>\n",
       "      <td>0</td>\n",
       "      <td>0</td>\n",
       "      <td>0</td>\n",
       "      <td>0</td>\n",
       "      <td>0</td>\n",
       "      <td>0</td>\n",
       "      <td>0</td>\n",
       "      <td>0</td>\n",
       "      <td>0</td>\n",
       "      <td>0</td>\n",
       "    </tr>\n",
       "    <tr>\n",
       "      <th>...</th>\n",
       "      <td>...</td>\n",
       "      <td>...</td>\n",
       "      <td>...</td>\n",
       "      <td>...</td>\n",
       "      <td>...</td>\n",
       "      <td>...</td>\n",
       "      <td>...</td>\n",
       "      <td>...</td>\n",
       "      <td>...</td>\n",
       "      <td>...</td>\n",
       "      <td>...</td>\n",
       "      <td>...</td>\n",
       "      <td>...</td>\n",
       "      <td>...</td>\n",
       "      <td>...</td>\n",
       "      <td>...</td>\n",
       "      <td>...</td>\n",
       "      <td>...</td>\n",
       "      <td>...</td>\n",
       "      <td>...</td>\n",
       "      <td>...</td>\n",
       "    </tr>\n",
       "    <tr>\n",
       "      <th>1488</th>\n",
       "      <td>0</td>\n",
       "      <td>0</td>\n",
       "      <td>0</td>\n",
       "      <td>0</td>\n",
       "      <td>0</td>\n",
       "      <td>0</td>\n",
       "      <td>0</td>\n",
       "      <td>0</td>\n",
       "      <td>0</td>\n",
       "      <td>0</td>\n",
       "      <td>...</td>\n",
       "      <td>0</td>\n",
       "      <td>0</td>\n",
       "      <td>0</td>\n",
       "      <td>0</td>\n",
       "      <td>0</td>\n",
       "      <td>0</td>\n",
       "      <td>0</td>\n",
       "      <td>0</td>\n",
       "      <td>0</td>\n",
       "      <td>0</td>\n",
       "    </tr>\n",
       "    <tr>\n",
       "      <th>1489</th>\n",
       "      <td>0</td>\n",
       "      <td>0</td>\n",
       "      <td>0</td>\n",
       "      <td>0</td>\n",
       "      <td>0</td>\n",
       "      <td>0</td>\n",
       "      <td>0</td>\n",
       "      <td>0</td>\n",
       "      <td>0</td>\n",
       "      <td>0</td>\n",
       "      <td>...</td>\n",
       "      <td>0</td>\n",
       "      <td>0</td>\n",
       "      <td>0</td>\n",
       "      <td>0</td>\n",
       "      <td>0</td>\n",
       "      <td>0</td>\n",
       "      <td>0</td>\n",
       "      <td>0</td>\n",
       "      <td>0</td>\n",
       "      <td>0</td>\n",
       "    </tr>\n",
       "    <tr>\n",
       "      <th>1490</th>\n",
       "      <td>0</td>\n",
       "      <td>0</td>\n",
       "      <td>0</td>\n",
       "      <td>0</td>\n",
       "      <td>0</td>\n",
       "      <td>0</td>\n",
       "      <td>0</td>\n",
       "      <td>0</td>\n",
       "      <td>0</td>\n",
       "      <td>0</td>\n",
       "      <td>...</td>\n",
       "      <td>0</td>\n",
       "      <td>0</td>\n",
       "      <td>0</td>\n",
       "      <td>0</td>\n",
       "      <td>0</td>\n",
       "      <td>0</td>\n",
       "      <td>0</td>\n",
       "      <td>0</td>\n",
       "      <td>0</td>\n",
       "      <td>0</td>\n",
       "    </tr>\n",
       "    <tr>\n",
       "      <th>1491</th>\n",
       "      <td>0</td>\n",
       "      <td>0</td>\n",
       "      <td>0</td>\n",
       "      <td>0</td>\n",
       "      <td>0</td>\n",
       "      <td>0</td>\n",
       "      <td>0</td>\n",
       "      <td>0</td>\n",
       "      <td>0</td>\n",
       "      <td>0</td>\n",
       "      <td>...</td>\n",
       "      <td>0</td>\n",
       "      <td>0</td>\n",
       "      <td>0</td>\n",
       "      <td>0</td>\n",
       "      <td>0</td>\n",
       "      <td>0</td>\n",
       "      <td>0</td>\n",
       "      <td>0</td>\n",
       "      <td>0</td>\n",
       "      <td>0</td>\n",
       "    </tr>\n",
       "    <tr>\n",
       "      <th>1492</th>\n",
       "      <td>0</td>\n",
       "      <td>0</td>\n",
       "      <td>0</td>\n",
       "      <td>0</td>\n",
       "      <td>0</td>\n",
       "      <td>0</td>\n",
       "      <td>0</td>\n",
       "      <td>0</td>\n",
       "      <td>0</td>\n",
       "      <td>0</td>\n",
       "      <td>...</td>\n",
       "      <td>0</td>\n",
       "      <td>0</td>\n",
       "      <td>0</td>\n",
       "      <td>0</td>\n",
       "      <td>0</td>\n",
       "      <td>0</td>\n",
       "      <td>0</td>\n",
       "      <td>0</td>\n",
       "      <td>0</td>\n",
       "      <td>0</td>\n",
       "    </tr>\n",
       "  </tbody>\n",
       "</table>\n",
       "<p>1493 rows × 300 columns</p>\n",
       "</div>"
      ],
      "text/plain": [
       "      according  agency  ahead  alabama  amazon  america  american  announced  \\\n",
       "0             0       0      0        0       0        0         0          1   \n",
       "1             0       0      0        0       0        0         0          0   \n",
       "2             0       0      0        0       0        0         0          0   \n",
       "3             0       0      0        0       0        0         0          0   \n",
       "4             0       0      0        0       0        0         0          0   \n",
       "...         ...     ...    ...      ...     ...      ...       ...        ...   \n",
       "1488          0       0      0        0       0        0         0          0   \n",
       "1489          0       0      0        0       0        0         0          0   \n",
       "1490          0       0      0        0       0        0         0          0   \n",
       "1491          0       0      0        0       0        0         0          0   \n",
       "1492          0       0      0        0       0        0         0          0   \n",
       "\n",
       "      appeared  apple  ...  wolverines  women  work  working  world  wrote  \\\n",
       "0            0      0  ...           0      0     0        0      0      0   \n",
       "1            0      0  ...           0      0     0        0      0      0   \n",
       "2            0      0  ...           0      0     0        0      0      0   \n",
       "3            0      0  ...           0      0     0        0      0      0   \n",
       "4            0      0  ...           0      0     0        0      0      0   \n",
       "...        ...    ...  ...         ...    ...   ...      ...    ...    ...   \n",
       "1488         0      0  ...           0      0     0        0      0      0   \n",
       "1489         0      0  ...           0      0     0        0      0      0   \n",
       "1490         0      0  ...           0      0     0        0      0      0   \n",
       "1491         0      0  ...           0      0     0        0      0      0   \n",
       "1492         0      0  ...           0      0     0        0      0      0   \n",
       "\n",
       "      year  years  york  young  \n",
       "0        0      0     0      0  \n",
       "1        0      1     0      0  \n",
       "2        0      0     0      0  \n",
       "3        0      0     0      0  \n",
       "4        0      0     0      0  \n",
       "...    ...    ...   ...    ...  \n",
       "1488     0      0     0      0  \n",
       "1489     0      0     0      0  \n",
       "1490     0      0     0      0  \n",
       "1491     0      0     0      0  \n",
       "1492     0      0     0      0  \n",
       "\n",
       "[1493 rows x 300 columns]"
      ]
     },
     "execution_count": 221,
     "metadata": {},
     "output_type": "execute_result"
    }
   ],
   "source": [
    "X"
   ]
  },
  {
   "cell_type": "code",
   "execution_count": 222,
   "id": "b2d5dc79",
   "metadata": {},
   "outputs": [
    {
     "data": {
      "text/plain": [
       "array(['politics', 'politics', 'politics', ..., 'science', 'science',\n",
       "       'science'], dtype=object)"
      ]
     },
     "execution_count": 222,
     "metadata": {},
     "output_type": "execute_result"
    }
   ],
   "source": [
    "y"
   ]
  },
  {
   "cell_type": "code",
   "execution_count": 223,
   "id": "e19ec9ea",
   "metadata": {},
   "outputs": [
    {
     "data": {
      "text/plain": [
       "array([[0., 1., 0.],\n",
       "       [0., 1., 0.],\n",
       "       [0., 1., 0.],\n",
       "       ...,\n",
       "       [0., 0., 1.],\n",
       "       [0., 0., 1.],\n",
       "       [0., 0., 1.]], dtype=float32)"
      ]
     },
     "execution_count": 223,
     "metadata": {},
     "output_type": "execute_result"
    }
   ],
   "source": [
    "label_encoder = LabelEncoder()\n",
    "y_encoded = label_encoder.fit_transform(y)\n",
    "y_categorical = to_categorical(y_encoded)\n",
    "y_categorical"
   ]
  },
  {
   "cell_type": "code",
   "execution_count": 224,
   "id": "e0e47f99",
   "metadata": {},
   "outputs": [],
   "source": [
    "#let's first split into train and temp  and then further split it into test and val- 80% training, 10% testing, 10% validation\n",
    "x_train, x_temp, y_train, y_temp = train_test_split(x, y_categorical, test_size=0.2)\n",
    "x_val, x_test, y_val, y_test = train_test_split(x_temp, y_temp, test_size=0.5)\n"
   ]
  },
  {
   "cell_type": "code",
   "execution_count": 225,
   "id": "ae905009",
   "metadata": {},
   "outputs": [
    {
     "name": "stdout",
     "output_type": "stream",
     "text": [
      "X_train shape: (1194, 300)\n",
      "X_train:       according  agency  ahead  alabama  amazon  america  american  announced  \\\n",
      "1223          0       0      0        0       0        0         0          0   \n",
      "432           0       0      0        0       0        0         0          0   \n",
      "1473          0       0      0        0       0        0         0          0   \n",
      "598           0       0      0        0       0        0         0          0   \n",
      "1006          0       0      0        0       0        0         0          0   \n",
      "...         ...     ...    ...      ...     ...      ...       ...        ...   \n",
      "1197          0       0      0        0       0        0         0          0   \n",
      "1299          0       0      0        0       0        0         0          0   \n",
      "1167          0       0      0        0       0        0         0          0   \n",
      "220           0       0      0        0       0        0         0          0   \n",
      "1137          0       0      0        0       0        0         0          0   \n",
      "\n",
      "      appeared  apple  ...  wolverines  women  work  working  world  wrote  \\\n",
      "1223         0      0  ...           0      0     0        0      0      0   \n",
      "432          0      0  ...           0      0     0        0      1      0   \n",
      "1473         0      0  ...           0      0     0        0      0      0   \n",
      "598          0      0  ...           0      0     0        0      0      0   \n",
      "1006         0      0  ...           0      0     0        0      0      0   \n",
      "...        ...    ...  ...         ...    ...   ...      ...    ...    ...   \n",
      "1197         0      0  ...           0      0     0        0      0      0   \n",
      "1299         0      0  ...           0      0     0        0      0      0   \n",
      "1167         0      0  ...           0      0     0        0      1      0   \n",
      "220          0      0  ...           0      0     0        0      0      0   \n",
      "1137         0      0  ...           0      0     0        0      0      0   \n",
      "\n",
      "      year  years  york  young  \n",
      "1223     0      0     0      0  \n",
      "432      0      0     0      0  \n",
      "1473     0      0     0      0  \n",
      "598      0      0     0      0  \n",
      "1006     0      0     0      0  \n",
      "...    ...    ...   ...    ...  \n",
      "1197     0      0     0      0  \n",
      "1299     0      0     0      0  \n",
      "1167     0      0     0      0  \n",
      "220      0      0     0      0  \n",
      "1137     0      0     0      0  \n",
      "\n",
      "[1194 rows x 300 columns]\n",
      "X_test shape: (150, 300)\n",
      "X_test:       according  agency  ahead  alabama  amazon  america  american  announced  \\\n",
      "518           0       0      0        0       0        0         0          0   \n",
      "1227          0       0      0        0       0        0         0          0   \n",
      "125           0       0      0        0       0        0         0          0   \n",
      "1103          0       0      0        0       0        0         0          0   \n",
      "152           0       0      0        0       0        0         0          0   \n",
      "...         ...     ...    ...      ...     ...      ...       ...        ...   \n",
      "752           0       0      0        0       0        0         0          0   \n",
      "177           0       0      0        0       0        0         0          0   \n",
      "366           0       0      0        0       0        0         0          0   \n",
      "1355          0       0      0        0       0        0         0          0   \n",
      "60            0       0      0        0       0        0         0          0   \n",
      "\n",
      "      appeared  apple  ...  wolverines  women  work  working  world  wrote  \\\n",
      "518          0      0  ...           0      0     0        0      0      0   \n",
      "1227         1      0  ...           0      0     0        0      0      0   \n",
      "125          0      0  ...           0      0     0        0      0      0   \n",
      "1103         0      0  ...           0      0     0        0      0      0   \n",
      "152          0      0  ...           0      0     0        0      0      0   \n",
      "...        ...    ...  ...         ...    ...   ...      ...    ...    ...   \n",
      "752          0      0  ...           0      0     0        0      0      0   \n",
      "177          0      0  ...           0      0     0        0      0      0   \n",
      "366          0      0  ...           0      0     0        0      0      0   \n",
      "1355         0      0  ...           0      0     0        0      0      0   \n",
      "60           0      0  ...           0      0     0        0      0      0   \n",
      "\n",
      "      year  years  york  young  \n",
      "518      0      0     0      0  \n",
      "1227     0      0     0      0  \n",
      "125      0      0     0      0  \n",
      "1103     0      0     0      0  \n",
      "152      0      0     0      0  \n",
      "...    ...    ...   ...    ...  \n",
      "752      0      0     0      0  \n",
      "177      0      0     0      0  \n",
      "366      0      0     0      0  \n",
      "1355     0      0     0      0  \n",
      "60       0      0     0      0  \n",
      "\n",
      "[150 rows x 300 columns]\n"
     ]
    }
   ],
   "source": [
    "print(\"X_train shape:\", x_train.shape)\n",
    "print(\"X_train:\", x_train)\n",
    "print(\"X_test shape:\", x_test.shape)\n",
    "print(\"X_test:\", x_test)\n"
   ]
  },
  {
   "cell_type": "code",
   "execution_count": 226,
   "id": "b70bbbe1",
   "metadata": {
    "scrolled": false
   },
   "outputs": [
    {
     "name": "stdout",
     "output_type": "stream",
     "text": [
      "y_train shape: (1194, 3)\n",
      "y_train: [[0. 0. 1.]\n",
      " [0. 1. 0.]\n",
      " [0. 0. 1.]\n",
      " ...\n",
      " [0. 0. 1.]\n",
      " [0. 1. 0.]\n",
      " [0. 0. 1.]]\n",
      "y_test shape: (150, 3)\n",
      "y_test: [[1. 0. 0.]\n",
      " [0. 0. 1.]\n",
      " [0. 1. 0.]\n",
      " [0. 0. 1.]\n",
      " [0. 1. 0.]\n",
      " [0. 1. 0.]\n",
      " [0. 1. 0.]\n",
      " [0. 1. 0.]\n",
      " [1. 0. 0.]\n",
      " [0. 0. 1.]\n",
      " [0. 0. 1.]\n",
      " [1. 0. 0.]\n",
      " [1. 0. 0.]\n",
      " [1. 0. 0.]\n",
      " [0. 1. 0.]\n",
      " [1. 0. 0.]\n",
      " [0. 1. 0.]\n",
      " [0. 0. 1.]\n",
      " [1. 0. 0.]\n",
      " [0. 1. 0.]\n",
      " [0. 0. 1.]\n",
      " [0. 0. 1.]\n",
      " [1. 0. 0.]\n",
      " [0. 0. 1.]\n",
      " [0. 0. 1.]\n",
      " [0. 1. 0.]\n",
      " [1. 0. 0.]\n",
      " [1. 0. 0.]\n",
      " [1. 0. 0.]\n",
      " [0. 0. 1.]\n",
      " [0. 1. 0.]\n",
      " [0. 1. 0.]\n",
      " [0. 1. 0.]\n",
      " [1. 0. 0.]\n",
      " [0. 0. 1.]\n",
      " [0. 1. 0.]\n",
      " [1. 0. 0.]\n",
      " [1. 0. 0.]\n",
      " [0. 1. 0.]\n",
      " [0. 0. 1.]\n",
      " [0. 0. 1.]\n",
      " [0. 0. 1.]\n",
      " [0. 1. 0.]\n",
      " [0. 1. 0.]\n",
      " [1. 0. 0.]\n",
      " [1. 0. 0.]\n",
      " [1. 0. 0.]\n",
      " [0. 0. 1.]\n",
      " [1. 0. 0.]\n",
      " [0. 1. 0.]\n",
      " [0. 1. 0.]\n",
      " [0. 0. 1.]\n",
      " [0. 1. 0.]\n",
      " [0. 0. 1.]\n",
      " [0. 1. 0.]\n",
      " [1. 0. 0.]\n",
      " [0. 1. 0.]\n",
      " [1. 0. 0.]\n",
      " [0. 1. 0.]\n",
      " [0. 1. 0.]\n",
      " [0. 1. 0.]\n",
      " [0. 1. 0.]\n",
      " [0. 0. 1.]\n",
      " [0. 1. 0.]\n",
      " [1. 0. 0.]\n",
      " [0. 0. 1.]\n",
      " [1. 0. 0.]\n",
      " [1. 0. 0.]\n",
      " [1. 0. 0.]\n",
      " [0. 1. 0.]\n",
      " [1. 0. 0.]\n",
      " [1. 0. 0.]\n",
      " [0. 0. 1.]\n",
      " [0. 1. 0.]\n",
      " [1. 0. 0.]\n",
      " [1. 0. 0.]\n",
      " [0. 0. 1.]\n",
      " [1. 0. 0.]\n",
      " [0. 1. 0.]\n",
      " [0. 1. 0.]\n",
      " [0. 1. 0.]\n",
      " [0. 0. 1.]\n",
      " [1. 0. 0.]\n",
      " [1. 0. 0.]\n",
      " [0. 1. 0.]\n",
      " [0. 0. 1.]\n",
      " [0. 0. 1.]\n",
      " [0. 1. 0.]\n",
      " [0. 1. 0.]\n",
      " [0. 0. 1.]\n",
      " [0. 1. 0.]\n",
      " [0. 0. 1.]\n",
      " [0. 0. 1.]\n",
      " [0. 0. 1.]\n",
      " [1. 0. 0.]\n",
      " [0. 0. 1.]\n",
      " [0. 0. 1.]\n",
      " [0. 1. 0.]\n",
      " [1. 0. 0.]\n",
      " [0. 1. 0.]\n",
      " [0. 1. 0.]\n",
      " [1. 0. 0.]\n",
      " [0. 1. 0.]\n",
      " [1. 0. 0.]\n",
      " [1. 0. 0.]\n",
      " [0. 0. 1.]\n",
      " [0. 1. 0.]\n",
      " [1. 0. 0.]\n",
      " [1. 0. 0.]\n",
      " [0. 1. 0.]\n",
      " [0. 1. 0.]\n",
      " [0. 0. 1.]\n",
      " [1. 0. 0.]\n",
      " [0. 1. 0.]\n",
      " [0. 1. 0.]\n",
      " [0. 0. 1.]\n",
      " [1. 0. 0.]\n",
      " [0. 0. 1.]\n",
      " [0. 1. 0.]\n",
      " [0. 0. 1.]\n",
      " [0. 1. 0.]\n",
      " [1. 0. 0.]\n",
      " [0. 0. 1.]\n",
      " [0. 0. 1.]\n",
      " [0. 0. 1.]\n",
      " [0. 0. 1.]\n",
      " [1. 0. 0.]\n",
      " [1. 0. 0.]\n",
      " [0. 1. 0.]\n",
      " [0. 0. 1.]\n",
      " [0. 0. 1.]\n",
      " [0. 0. 1.]\n",
      " [1. 0. 0.]\n",
      " [0. 0. 1.]\n",
      " [0. 1. 0.]\n",
      " [1. 0. 0.]\n",
      " [0. 1. 0.]\n",
      " [0. 1. 0.]\n",
      " [1. 0. 0.]\n",
      " [1. 0. 0.]\n",
      " [0. 0. 1.]\n",
      " [0. 1. 0.]\n",
      " [0. 1. 0.]\n",
      " [0. 0. 1.]\n",
      " [1. 0. 0.]\n",
      " [1. 0. 0.]\n",
      " [0. 1. 0.]\n",
      " [0. 1. 0.]\n",
      " [0. 0. 1.]\n",
      " [0. 1. 0.]]\n"
     ]
    }
   ],
   "source": [
    "print(\"y_train shape:\", y_train.shape)\n",
    "print(\"y_train:\", y_train)\n",
    "print(\"y_test shape:\", y_test.shape)\n",
    "print(\"y_test:\", y_test)"
   ]
  },
  {
   "cell_type": "code",
   "execution_count": 227,
   "id": "b347f2d7",
   "metadata": {
    "scrolled": false
   },
   "outputs": [
    {
     "name": "stdout",
     "output_type": "stream",
     "text": [
      "x_val shape: (149, 300)\n",
      "x_val:       according  agency  ahead  alabama  amazon  america  american  announced  \\\n",
      "448           0       0      0        0       0        0         0          0   \n",
      "475           0       0      0        0       0        0         0          0   \n",
      "1115          0       0      0        0       0        0         0          0   \n",
      "883           0       0      0        0       0        0         0          0   \n",
      "1458          0       0      0        0       0        0         0          0   \n",
      "...         ...     ...    ...      ...     ...      ...       ...        ...   \n",
      "803           0       0      0        0       0        0         0          0   \n",
      "749           0       0      0        0       0        0         0          0   \n",
      "341           1       0      0        0       0        0         0          0   \n",
      "672           0       0      0        0       0        0         0          0   \n",
      "362           0       0      0        0       0        0         0          0   \n",
      "\n",
      "      appeared  apple  ...  wolverines  women  work  working  world  wrote  \\\n",
      "448          0      0  ...           0      0     0        0      1      0   \n",
      "475          0      0  ...           0      0     0        0      0      0   \n",
      "1115         0      0  ...           0      0     0        0      0      0   \n",
      "883          0      0  ...           0      0     0        0      0      0   \n",
      "1458         0      0  ...           0      0     0        0      0      0   \n",
      "...        ...    ...  ...         ...    ...   ...      ...    ...    ...   \n",
      "803          0      0  ...           0      0     0        0      0      0   \n",
      "749          0      0  ...           0      0     0        0      0      0   \n",
      "341          0      0  ...           0      0     0        0      0      0   \n",
      "672          0      0  ...           0      0     0        0      0      0   \n",
      "362          0      0  ...           0      0     0        0      0      0   \n",
      "\n",
      "      year  years  york  young  \n",
      "448      0      0     0      0  \n",
      "475      0      0     0      0  \n",
      "1115     0      0     0      0  \n",
      "883      0      0     0      0  \n",
      "1458     0      0     0      0  \n",
      "...    ...    ...   ...    ...  \n",
      "803      0      0     0      0  \n",
      "749      0      0     0      0  \n",
      "341      0      0     0      0  \n",
      "672      0      0     0      0  \n",
      "362      0      0     0      0  \n",
      "\n",
      "[149 rows x 300 columns]\n",
      "y_val shape: (149, 3)\n",
      "y_val: [[0. 1. 0.]\n",
      " [0. 1. 0.]\n",
      " [0. 0. 1.]\n",
      " [1. 0. 0.]\n",
      " [0. 0. 1.]\n",
      " [0. 1. 0.]\n",
      " [0. 1. 0.]\n",
      " [0. 0. 1.]\n",
      " [0. 0. 1.]\n",
      " [1. 0. 0.]\n",
      " [0. 1. 0.]\n",
      " [0. 1. 0.]\n",
      " [1. 0. 0.]\n",
      " [0. 1. 0.]\n",
      " [1. 0. 0.]\n",
      " [1. 0. 0.]\n",
      " [0. 0. 1.]\n",
      " [0. 1. 0.]\n",
      " [1. 0. 0.]\n",
      " [0. 0. 1.]\n",
      " [0. 1. 0.]\n",
      " [0. 0. 1.]\n",
      " [0. 0. 1.]\n",
      " [1. 0. 0.]\n",
      " [0. 0. 1.]\n",
      " [0. 0. 1.]\n",
      " [0. 0. 1.]\n",
      " [0. 1. 0.]\n",
      " [1. 0. 0.]\n",
      " [1. 0. 0.]\n",
      " [0. 0. 1.]\n",
      " [0. 1. 0.]\n",
      " [0. 1. 0.]\n",
      " [0. 1. 0.]\n",
      " [0. 0. 1.]\n",
      " [0. 1. 0.]\n",
      " [0. 0. 1.]\n",
      " [0. 0. 1.]\n",
      " [0. 0. 1.]\n",
      " [1. 0. 0.]\n",
      " [1. 0. 0.]\n",
      " [0. 1. 0.]\n",
      " [1. 0. 0.]\n",
      " [1. 0. 0.]\n",
      " [0. 1. 0.]\n",
      " [0. 0. 1.]\n",
      " [0. 1. 0.]\n",
      " [1. 0. 0.]\n",
      " [0. 0. 1.]\n",
      " [1. 0. 0.]\n",
      " [1. 0. 0.]\n",
      " [0. 1. 0.]\n",
      " [1. 0. 0.]\n",
      " [0. 1. 0.]\n",
      " [0. 0. 1.]\n",
      " [0. 1. 0.]\n",
      " [0. 1. 0.]\n",
      " [1. 0. 0.]\n",
      " [0. 1. 0.]\n",
      " [1. 0. 0.]\n",
      " [0. 1. 0.]\n",
      " [0. 1. 0.]\n",
      " [1. 0. 0.]\n",
      " [0. 0. 1.]\n",
      " [1. 0. 0.]\n",
      " [0. 1. 0.]\n",
      " [1. 0. 0.]\n",
      " [0. 0. 1.]\n",
      " [1. 0. 0.]\n",
      " [1. 0. 0.]\n",
      " [1. 0. 0.]\n",
      " [0. 1. 0.]\n",
      " [1. 0. 0.]\n",
      " [1. 0. 0.]\n",
      " [0. 1. 0.]\n",
      " [1. 0. 0.]\n",
      " [0. 0. 1.]\n",
      " [1. 0. 0.]\n",
      " [0. 0. 1.]\n",
      " [1. 0. 0.]\n",
      " [0. 1. 0.]\n",
      " [0. 1. 0.]\n",
      " [0. 1. 0.]\n",
      " [0. 1. 0.]\n",
      " [0. 1. 0.]\n",
      " [0. 1. 0.]\n",
      " [0. 0. 1.]\n",
      " [0. 1. 0.]\n",
      " [0. 1. 0.]\n",
      " [1. 0. 0.]\n",
      " [0. 0. 1.]\n",
      " [0. 0. 1.]\n",
      " [0. 0. 1.]\n",
      " [0. 0. 1.]\n",
      " [1. 0. 0.]\n",
      " [1. 0. 0.]\n",
      " [1. 0. 0.]\n",
      " [0. 1. 0.]\n",
      " [1. 0. 0.]\n",
      " [0. 0. 1.]\n",
      " [1. 0. 0.]\n",
      " [0. 0. 1.]\n",
      " [1. 0. 0.]\n",
      " [0. 1. 0.]\n",
      " [0. 1. 0.]\n",
      " [0. 1. 0.]\n",
      " [0. 1. 0.]\n",
      " [1. 0. 0.]\n",
      " [0. 1. 0.]\n",
      " [1. 0. 0.]\n",
      " [1. 0. 0.]\n",
      " [1. 0. 0.]\n",
      " [1. 0. 0.]\n",
      " [0. 0. 1.]\n",
      " [1. 0. 0.]\n",
      " [1. 0. 0.]\n",
      " [0. 0. 1.]\n",
      " [0. 0. 1.]\n",
      " [0. 1. 0.]\n",
      " [0. 1. 0.]\n",
      " [1. 0. 0.]\n",
      " [0. 1. 0.]\n",
      " [0. 0. 1.]\n",
      " [1. 0. 0.]\n",
      " [1. 0. 0.]\n",
      " [0. 0. 1.]\n",
      " [0. 0. 1.]\n",
      " [1. 0. 0.]\n",
      " [0. 1. 0.]\n",
      " [0. 0. 1.]\n",
      " [0. 1. 0.]\n",
      " [0. 0. 1.]\n",
      " [0. 0. 1.]\n",
      " [0. 1. 0.]\n",
      " [0. 0. 1.]\n",
      " [0. 1. 0.]\n",
      " [1. 0. 0.]\n",
      " [0. 0. 1.]\n",
      " [0. 0. 1.]\n",
      " [1. 0. 0.]\n",
      " [1. 0. 0.]\n",
      " [0. 0. 1.]\n",
      " [1. 0. 0.]\n",
      " [0. 1. 0.]\n",
      " [1. 0. 0.]\n",
      " [1. 0. 0.]\n",
      " [0. 1. 0.]\n",
      " [1. 0. 0.]\n",
      " [0. 1. 0.]]\n"
     ]
    }
   ],
   "source": [
    "print(\"x_val shape:\",x_val.shape)\n",
    "print(\"x_val:\",x_val)\n",
    "print(\"y_val shape:\", y_val.shape)\n",
    "print(\"y_val:\",y_val)"
   ]
  },
  {
   "cell_type": "markdown",
   "id": "f9e321fb",
   "metadata": {},
   "source": [
    "# ANN"
   ]
  },
  {
   "cell_type": "code",
   "execution_count": 228,
   "id": "4ff9d5c4",
   "metadata": {},
   "outputs": [],
   "source": [
    "fnum = X.shape[1]\n",
    "cnum = y_categorical.shape[1]"
   ]
  },
  {
   "cell_type": "code",
   "execution_count": 229,
   "id": "b53d6e1c",
   "metadata": {},
   "outputs": [
    {
     "data": {
      "text/plain": [
       "300"
      ]
     },
     "execution_count": 229,
     "metadata": {},
     "output_type": "execute_result"
    }
   ],
   "source": [
    "fnum"
   ]
  },
  {
   "cell_type": "code",
   "execution_count": 230,
   "id": "cea69001",
   "metadata": {},
   "outputs": [
    {
     "data": {
      "text/plain": [
       "3"
      ]
     },
     "execution_count": 230,
     "metadata": {},
     "output_type": "execute_result"
    }
   ],
   "source": [
    "cnum"
   ]
  },
  {
   "cell_type": "code",
   "execution_count": 231,
   "id": "eb751ad4",
   "metadata": {
    "scrolled": true
   },
   "outputs": [],
   "source": [
    "ANN_model = Sequential()\n",
    "ANN_model.add(Dense(512,input_shape=(fnum,),activation='relu'))\n",
    "ANN_model.add(BatchNormalization())\n",
    "ANN_model.add(Dense(256, activation='relu'))\n",
    "ANN_model.add(Dropout(0.5))\n",
    "ANN_model.add(Dense(cnum, activation='softmax'))\n"
   ]
  },
  {
   "cell_type": "code",
   "execution_count": 232,
   "id": "9737128f",
   "metadata": {},
   "outputs": [
    {
     "name": "stdout",
     "output_type": "stream",
     "text": [
      "Model: \"sequential_32\"\n",
      "_________________________________________________________________\n",
      " Layer (type)                Output Shape              Param #   \n",
      "=================================================================\n",
      " dense_49 (Dense)            (None, 512)               154112    \n",
      "                                                                 \n",
      " batch_normalization_1 (Bat  (None, 512)               2048      \n",
      " chNormalization)                                                \n",
      "                                                                 \n",
      " dense_50 (Dense)            (None, 256)               131328    \n",
      "                                                                 \n",
      " dropout_5 (Dropout)         (None, 256)               0         \n",
      "                                                                 \n",
      " dense_51 (Dense)            (None, 3)                 771       \n",
      "                                                                 \n",
      "=================================================================\n",
      "Total params: 288259 (1.10 MB)\n",
      "Trainable params: 287235 (1.10 MB)\n",
      "Non-trainable params: 1024 (4.00 KB)\n",
      "_________________________________________________________________\n"
     ]
    }
   ],
   "source": [
    "ANN_model.summary()"
   ]
  },
  {
   "cell_type": "code",
   "execution_count": 233,
   "id": "87f2ac43",
   "metadata": {},
   "outputs": [
    {
     "name": "stdout",
     "output_type": "stream",
     "text": [
      "Epoch 1/10\n",
      "38/38 [==============================] - 2s 12ms/step - loss: 1.0481 - accuracy: 0.5653 - val_loss: 0.9497 - val_accuracy: 0.6577\n",
      "Epoch 2/10\n",
      "38/38 [==============================] - 0s 6ms/step - loss: 0.4550 - accuracy: 0.8015 - val_loss: 0.9011 - val_accuracy: 0.6980\n",
      "Epoch 3/10\n",
      "38/38 [==============================] - 0s 5ms/step - loss: 0.3325 - accuracy: 0.8593 - val_loss: 0.8468 - val_accuracy: 0.7248\n",
      "Epoch 4/10\n",
      "38/38 [==============================] - 0s 5ms/step - loss: 0.2709 - accuracy: 0.8861 - val_loss: 0.7976 - val_accuracy: 0.7114\n",
      "Epoch 5/10\n",
      "38/38 [==============================] - 0s 5ms/step - loss: 0.2468 - accuracy: 0.9028 - val_loss: 0.7518 - val_accuracy: 0.7047\n",
      "Epoch 6/10\n",
      "38/38 [==============================] - 0s 5ms/step - loss: 0.1955 - accuracy: 0.9221 - val_loss: 0.7110 - val_accuracy: 0.6980\n",
      "Epoch 7/10\n",
      "38/38 [==============================] - 0s 5ms/step - loss: 0.1718 - accuracy: 0.9280 - val_loss: 0.6883 - val_accuracy: 0.6510\n",
      "Epoch 8/10\n",
      "38/38 [==============================] - 0s 5ms/step - loss: 0.1626 - accuracy: 0.9372 - val_loss: 0.6734 - val_accuracy: 0.6711\n",
      "Epoch 9/10\n",
      "38/38 [==============================] - 0s 6ms/step - loss: 0.1536 - accuracy: 0.9380 - val_loss: 0.6682 - val_accuracy: 0.6779\n",
      "Epoch 10/10\n",
      "38/38 [==============================] - 0s 5ms/step - loss: 0.1515 - accuracy: 0.9380 - val_loss: 0.6860 - val_accuracy: 0.6980\n"
     ]
    }
   ],
   "source": [
    "ANN_model.compile(\n",
    "                 loss=\"categorical_crossentropy\",\n",
    "                 metrics=[\"accuracy\"],\n",
    "                 optimizer='adam'                \n",
    "                 )\n",
    "history=ANN_model.fit(x_train,y_train, epochs=10,validation_data=(x_val, y_val))             "
   ]
  },
  {
   "cell_type": "code",
   "execution_count": 234,
   "id": "76ff757c",
   "metadata": {},
   "outputs": [
    {
     "name": "stdout",
     "output_type": "stream",
     "text": [
      "5/5 [==============================] - 0s 3ms/step - loss: 0.6720 - accuracy: 0.7400\n",
      "accuracy: 74.00000095367432\n"
     ]
    }
   ],
   "source": [
    "score = ANN_model.evaluate(x_test,y_test)\n",
    "print(\"accuracy:\", score[1]*100)"
   ]
  },
  {
   "cell_type": "code",
   "execution_count": 235,
   "id": "7b2508ac",
   "metadata": {},
   "outputs": [
    {
     "data": {
      "image/png": "[encoded data removed]",
      "text/plain": [
       "<Figure size 640x480 with 1 Axes>"
      ]
     },
     "metadata": {},
     "output_type": "display_data"
    }
   ],
   "source": [
    "plt.figure()\n",
    "plt.plot(history.history[\"accuracy\"],label=\"Train\");\n",
    "plt.plot(history.history[\"val_accuracy\"],label=\"Test\");\n",
    "plt.title(\"Accuracy\")\n",
    "plt.ylabel(\"Accuracy\")\n",
    "plt.xlabel(\"Epochs\")\n",
    "plt.legend()\n",
    "plt.show()"
   ]
  },
  {
   "cell_type": "code",
   "execution_count": 236,
   "id": "e584b633",
   "metadata": {},
   "outputs": [
    {
     "data": {
      "image/png": "[encoded data removed]",
      "text/plain": [
       "<Figure size 640x480 with 1 Axes>"
      ]
     },
     "metadata": {},
     "output_type": "display_data"
    }
   ],
   "source": [
    "plt.figure()\n",
    "plt.plot(history.history[\"loss\"],label=\"Train\");\n",
    "plt.plot(history.history[\"val_loss\"],label=\"Test\");\n",
    "plt.title(\"Loss\")\n",
    "plt.ylabel(\"Loss\")\n",
    "plt.xlabel(\"Epochs\")\n",
    "plt.legend()\n",
    "plt.show()"
   ]
  },
  {
   "cell_type": "code",
   "execution_count": 237,
   "id": "9b66ac93",
   "metadata": {},
   "outputs": [
    {
     "name": "stdout",
     "output_type": "stream",
     "text": [
      "5/5 [==============================] - 0s 2ms/step\n"
     ]
    }
   ],
   "source": [
    "from sklearn.metrics import confusion_matrix, ConfusionMatrixDisplay\n",
    "from tensorflow.keras.models import load_model\n",
    "\n",
    "Y_pred = ANN_model.predict(X_test)\n",
    "Y_pred = Y_pred.argmax(axis=1)\n",
    "Y_true = y_test.argmax(axis=1)"
   ]
  },
  {
   "cell_type": "code",
   "execution_count": 238,
   "id": "1c0fcc18",
   "metadata": {},
   "outputs": [
    {
     "data": {
      "text/plain": [
       "array([2, 0, 1, 1, 2, 1, 0, 1, 1, 1, 1, 1, 2, 2, 2, 0, 0, 2, 0, 0, 1, 2,\n",
       "       2, 0, 0, 0, 1, 0, 2, 0, 1, 1, 1, 2, 0, 1, 0, 2, 2, 2, 2, 0, 0, 2,\n",
       "       2, 1, 2, 2, 1, 1, 0, 1, 0, 1, 0, 0, 1, 2, 2, 2, 2, 1, 1, 0, 1, 0,\n",
       "       2, 1, 0, 1, 0, 1, 0, 2, 0, 0, 2, 1, 0, 2, 1, 0, 0, 0, 1, 1, 2, 0,\n",
       "       1, 2, 2, 2, 2, 0, 2, 1, 1, 1, 0, 0, 0, 1, 1, 0, 1, 0, 0, 2, 2, 2,\n",
       "       0, 1, 0, 2, 1, 0, 0, 1, 2, 0, 0, 1, 2, 2, 1, 2, 0, 0, 0, 2, 1, 1,\n",
       "       2, 0, 1, 1, 2, 1, 2, 2, 0, 2, 0, 2, 1, 1, 1, 0, 0, 1])"
      ]
     },
     "execution_count": 238,
     "metadata": {},
     "output_type": "execute_result"
    }
   ],
   "source": [
    "Y_pred"
   ]
  },
  {
   "cell_type": "code",
   "execution_count": 239,
   "id": "6458cc50",
   "metadata": {},
   "outputs": [
    {
     "data": {
      "text/plain": [
       "array([0, 2, 1, 2, 1, 1, 1, 1, 0, 2, 2, 0, 0, 0, 1, 0, 1, 2, 0, 1, 2, 2,\n",
       "       0, 2, 2, 1, 0, 0, 0, 2, 1, 1, 1, 0, 2, 1, 0, 0, 1, 2, 2, 2, 1, 1,\n",
       "       0, 0, 0, 2, 0, 1, 1, 2, 1, 2, 1, 0, 1, 0, 1, 1, 1, 1, 2, 1, 0, 2,\n",
       "       0, 0, 0, 1, 0, 0, 2, 1, 0, 0, 2, 0, 1, 1, 1, 2, 0, 0, 1, 2, 2, 1,\n",
       "       1, 2, 1, 2, 2, 2, 0, 2, 2, 1, 0, 1, 1, 0, 1, 0, 0, 2, 1, 0, 0, 1,\n",
       "       1, 2, 0, 1, 1, 2, 0, 2, 1, 2, 1, 0, 2, 2, 2, 2, 0, 0, 1, 2, 2, 2,\n",
       "       0, 2, 1, 0, 1, 1, 0, 0, 2, 1, 1, 2, 0, 0, 1, 1, 2, 1])"
      ]
     },
     "execution_count": 239,
     "metadata": {},
     "output_type": "execute_result"
    }
   ],
   "source": [
    "Y_true"
   ]
  },
  {
   "cell_type": "code",
   "execution_count": 240,
   "id": "88aaed2f",
   "metadata": {},
   "outputs": [
    {
     "name": "stdout",
     "output_type": "stream",
     "text": [
      "[[17 15 17]\n",
      " [19 21 15]\n",
      " [16 15 15]]\n"
     ]
    },
    {
     "data": {
      "image/png": "[encoded data removed]",
      "text/plain": [
       "<Figure size 1000x800 with 2 Axes>"
      ]
     },
     "metadata": {},
     "output_type": "display_data"
    }
   ],
   "source": [
    "# Confusion matrix\n",
    "cm = confusion_matrix(Y_true, Y_pred)\n",
    "print(cm)\n",
    "import seaborn as sns\n",
    "import matplotlib.pyplot as plt\n",
    "\n",
    "plt.figure(figsize=(10, 8))\n",
    "sns.heatmap(cm, annot=True, fmt='d', cmap='Blues',\n",
    "            xticklabels=label_encoder.classes_,\n",
    "            yticklabels=label_encoder.classes_)\n",
    "plt.title('Confusion Matrix- ANN')\n",
    "plt.ylabel('True Label')\n",
    "plt.xlabel('Predicted Label')\n",
    "plt.show()"
   ]
  },
  {
   "cell_type": "markdown",
   "id": "11afc67a",
   "metadata": {},
   "source": [
    "# CNN"
   ]
  },
  {
   "cell_type": "code",
   "execution_count": 266,
   "id": "7a8a39e7",
   "metadata": {},
   "outputs": [],
   "source": [
    "from tensorflow.keras.layers import Reshape, Conv1D, MaxPooling1D, Embedding, Flatten\n",
    "CNN_model = Sequential()\n",
    "CNN_model.add(Dense(128, activation='relu', input_shape=(fnum,)))\n",
    "CNN_model.add(Reshape((128, 1))) \n",
    "CNN_model.add(Conv1D(64, 3, activation='relu')),\n",
    "CNN_model.add(MaxPooling1D(pool_size=2)),\n",
    "CNN_model.add(Flatten())\n",
    "CNN_model.add(Dense(256, activation='relu'))\n",
    "CNN_model.add(Dropout(0.5))\n",
    "CNN_model.add(Dense(cnum, activation='softmax'))"
   ]
  },
  {
   "cell_type": "code",
   "execution_count": 267,
   "id": "e0f5b9e6",
   "metadata": {},
   "outputs": [
    {
     "name": "stdout",
     "output_type": "stream",
     "text": [
      "Model: \"sequential_39\"\n",
      "_________________________________________________________________\n",
      " Layer (type)                Output Shape              Param #   \n",
      "=================================================================\n",
      " dense_63 (Dense)            (None, 128)               38528     \n",
      "                                                                 \n",
      " reshape_10 (Reshape)        (None, 128, 1)            0         \n",
      "                                                                 \n",
      " conv1d_20 (Conv1D)          (None, 126, 64)           256       \n",
      "                                                                 \n",
      " max_pooling1d_13 (MaxPooli  (None, 63, 64)            0         \n",
      " ng1D)                                                           \n",
      "                                                                 \n",
      " flatten_7 (Flatten)         (None, 4032)              0         \n",
      "                                                                 \n",
      " dense_64 (Dense)            (None, 256)               1032448   \n",
      "                                                                 \n",
      " dropout_9 (Dropout)         (None, 256)               0         \n",
      "                                                                 \n",
      " dense_65 (Dense)            (None, 3)                 771       \n",
      "                                                                 \n",
      "=================================================================\n",
      "Total params: 1072003 (4.09 MB)\n",
      "Trainable params: 1072003 (4.09 MB)\n",
      "Non-trainable params: 0 (0.00 Byte)\n",
      "_________________________________________________________________\n"
     ]
    }
   ],
   "source": [
    "CNN_model.summary()"
   ]
  },
  {
   "cell_type": "code",
   "execution_count": 268,
   "id": "7eedf511",
   "metadata": {},
   "outputs": [
    {
     "name": "stdout",
     "output_type": "stream",
     "text": [
      "Epoch 1/10\n",
      "38/38 [==============================] - 2s 23ms/step - loss: 0.9892 - accuracy: 0.4908 - val_loss: 0.8389 - val_accuracy: 0.6913\n",
      "Epoch 2/10\n",
      "38/38 [==============================] - 1s 15ms/step - loss: 0.6517 - accuracy: 0.7144 - val_loss: 0.7033 - val_accuracy: 0.6980\n",
      "Epoch 3/10\n",
      "38/38 [==============================] - 1s 15ms/step - loss: 0.4446 - accuracy: 0.8258 - val_loss: 0.6934 - val_accuracy: 0.7114\n",
      "Epoch 4/10\n",
      "38/38 [==============================] - 1s 15ms/step - loss: 0.3199 - accuracy: 0.8719 - val_loss: 0.7899 - val_accuracy: 0.6980\n",
      "Epoch 5/10\n",
      "38/38 [==============================] - 1s 15ms/step - loss: 0.2458 - accuracy: 0.8945 - val_loss: 0.8403 - val_accuracy: 0.6711\n",
      "Epoch 6/10\n",
      "38/38 [==============================] - 1s 16ms/step - loss: 0.1887 - accuracy: 0.9204 - val_loss: 0.9391 - val_accuracy: 0.6711\n",
      "Epoch 7/10\n",
      "38/38 [==============================] - 1s 15ms/step - loss: 0.1637 - accuracy: 0.9338 - val_loss: 0.9915 - val_accuracy: 0.7047\n",
      "Epoch 8/10\n",
      "38/38 [==============================] - 1s 15ms/step - loss: 0.1392 - accuracy: 0.9414 - val_loss: 1.1337 - val_accuracy: 0.6846\n",
      "Epoch 9/10\n",
      "38/38 [==============================] - 1s 15ms/step - loss: 0.1314 - accuracy: 0.9405 - val_loss: 1.1711 - val_accuracy: 0.6779\n",
      "Epoch 10/10\n",
      "38/38 [==============================] - 1s 17ms/step - loss: 0.1268 - accuracy: 0.9439 - val_loss: 1.2079 - val_accuracy: 0.7047\n"
     ]
    }
   ],
   "source": [
    "CNN_model.compile(\n",
    "                 loss=\"categorical_crossentropy\",\n",
    "                 metrics=[\"accuracy\"],\n",
    "                 optimizer='adam'              \n",
    "                 )         \n",
    "history=CNN_model.fit(x_train,y_train, epochs=10,validation_data=(x_val, y_val))    "
   ]
  },
  {
   "cell_type": "code",
   "execution_count": 269,
   "id": "6279978c",
   "metadata": {},
   "outputs": [
    {
     "name": "stdout",
     "output_type": "stream",
     "text": [
      "5/5 [==============================] - 0s 4ms/step - loss: 1.2425 - accuracy: 0.7333\n",
      "accuracy: 73.33333492279053\n"
     ]
    }
   ],
   "source": [
    "score = CNN_model.evaluate(x_test,y_test)\n",
    "print(\"accuracy:\", score[1]*100)"
   ]
  },
  {
   "cell_type": "code",
   "execution_count": 270,
   "id": "4e7ab91c",
   "metadata": {},
   "outputs": [
    {
     "data": {
      "image/png": "[encoded data removed]",
      "text/plain": [
       "<Figure size 640x480 with 1 Axes>"
      ]
     },
     "metadata": {},
     "output_type": "display_data"
    }
   ],
   "source": [
    "plt.figure()\n",
    "plt.plot(history.history[\"accuracy\"],label=\"Train\");\n",
    "plt.plot(history.history[\"val_accuracy\"],label=\"Test\");\n",
    "plt.title(\"Accuracy\")\n",
    "plt.ylabel(\"Accuracy\")\n",
    "plt.xlabel(\"Epochs\")\n",
    "plt.legend()\n",
    "plt.show()"
   ]
  },
  {
   "cell_type": "code",
   "execution_count": 271,
   "id": "0cc53cc6",
   "metadata": {},
   "outputs": [
    {
     "data": {
      "image/png": "[encoded data removed]",
      "text/plain": [
       "<Figure size 640x480 with 1 Axes>"
      ]
     },
     "metadata": {},
     "output_type": "display_data"
    }
   ],
   "source": [
    "plt.figure()\n",
    "plt.plot(history.history[\"loss\"],label=\"Train\");\n",
    "plt.plot(history.history[\"val_loss\"],label=\"Test\");\n",
    "plt.title(\"Loss\")\n",
    "plt.ylabel(\"Loss\")\n",
    "plt.xlabel(\"Epochs\")\n",
    "plt.legend()\n",
    "plt.show()"
   ]
  },
  {
   "cell_type": "code",
   "execution_count": 272,
   "id": "4c5be17c",
   "metadata": {},
   "outputs": [
    {
     "name": "stdout",
     "output_type": "stream",
     "text": [
      "5/5 [==============================] - 0s 4ms/step\n"
     ]
    }
   ],
   "source": [
    "from sklearn.metrics import confusion_matrix, ConfusionMatrixDisplay\n",
    "from tensorflow.keras.models import load_model\n",
    "\n",
    "Y_pred = CNN_model.predict(X_test)\n",
    "Y_pred = Y_pred.argmax(axis=1)\n",
    "Y_true = y_test.argmax(axis=1)"
   ]
  },
  {
   "cell_type": "code",
   "execution_count": 273,
   "id": "04ae0844",
   "metadata": {},
   "outputs": [
    {
     "data": {
      "text/plain": [
       "array([2, 0, 1, 1, 2, 1, 0, 1, 1, 1, 1, 1, 2, 2, 2, 0, 0, 2, 0, 0, 1, 2,\n",
       "       2, 0, 0, 0, 1, 0, 2, 0, 1, 1, 1, 2, 0, 1, 0, 2, 1, 2, 2, 0, 0, 2,\n",
       "       2, 1, 1, 2, 1, 1, 0, 1, 0, 1, 0, 0, 1, 2, 2, 2, 2, 1, 1, 0, 1, 0,\n",
       "       2, 1, 0, 1, 0, 1, 0, 2, 0, 0, 2, 1, 0, 2, 1, 0, 0, 0, 1, 1, 2, 0,\n",
       "       1, 2, 2, 2, 2, 0, 2, 1, 1, 1, 0, 0, 0, 1, 1, 0, 1, 0, 0, 2, 2, 2,\n",
       "       0, 1, 0, 2, 1, 1, 0, 1, 2, 0, 0, 1, 2, 1, 1, 2, 0, 0, 0, 2, 1, 1,\n",
       "       2, 0, 1, 1, 2, 1, 2, 2, 0, 2, 0, 2, 1, 1, 1, 0, 0, 1])"
      ]
     },
     "execution_count": 273,
     "metadata": {},
     "output_type": "execute_result"
    }
   ],
   "source": [
    "Y_pred"
   ]
  },
  {
   "cell_type": "code",
   "execution_count": 274,
   "id": "2085f84f",
   "metadata": {},
   "outputs": [
    {
     "data": {
      "text/plain": [
       "array([0, 2, 1, 2, 1, 1, 1, 1, 0, 2, 2, 0, 0, 0, 1, 0, 1, 2, 0, 1, 2, 2,\n",
       "       0, 2, 2, 1, 0, 0, 0, 2, 1, 1, 1, 0, 2, 1, 0, 0, 1, 2, 2, 2, 1, 1,\n",
       "       0, 0, 0, 2, 0, 1, 1, 2, 1, 2, 1, 0, 1, 0, 1, 1, 1, 1, 2, 1, 0, 2,\n",
       "       0, 0, 0, 1, 0, 0, 2, 1, 0, 0, 2, 0, 1, 1, 1, 2, 0, 0, 1, 2, 2, 1,\n",
       "       1, 2, 1, 2, 2, 2, 0, 2, 2, 1, 0, 1, 1, 0, 1, 0, 0, 2, 1, 0, 0, 1,\n",
       "       1, 2, 0, 1, 1, 2, 0, 2, 1, 2, 1, 0, 2, 2, 2, 2, 0, 0, 1, 2, 2, 2,\n",
       "       0, 2, 1, 0, 1, 1, 0, 0, 2, 1, 1, 2, 0, 0, 1, 1, 2, 1])"
      ]
     },
     "execution_count": 274,
     "metadata": {},
     "output_type": "execute_result"
    }
   ],
   "source": [
    "Y_true"
   ]
  },
  {
   "cell_type": "code",
   "execution_count": 275,
   "id": "e963453d",
   "metadata": {},
   "outputs": [
    {
     "name": "stdout",
     "output_type": "stream",
     "text": [
      "[[17 16 16]\n",
      " [19 22 14]\n",
      " [15 17 14]]\n"
     ]
    },
    {
     "data": {
      "image/png": "[encoded data removed]",
      "text/plain": [
       "<Figure size 1000x800 with 2 Axes>"
      ]
     },
     "metadata": {},
     "output_type": "display_data"
    }
   ],
   "source": [
    "# Confusion matrix\n",
    "cm = confusion_matrix(Y_true, Y_pred)\n",
    "print(cm)\n",
    "import seaborn as sns\n",
    "import matplotlib.pyplot as plt\n",
    "\n",
    "plt.figure(figsize=(10, 8))\n",
    "sns.heatmap(cm, annot=True, fmt='d', cmap='Blues',\n",
    "            xticklabels=label_encoder.classes_,\n",
    "            yticklabels=label_encoder.classes_)\n",
    "plt.title('Confusion Matrix- CNN')\n",
    "plt.ylabel('True Label')\n",
    "plt.xlabel('Predicted Label')\n",
    "plt.show()"
   ]
  },
  {
   "cell_type": "markdown",
   "id": "a73a28e8",
   "metadata": {},
   "source": [
    "# LSTM"
   ]
  },
  {
   "cell_type": "code",
   "execution_count": 251,
   "id": "7cbe5942",
   "metadata": {},
   "outputs": [],
   "source": [
    "LSTM_model = Sequential()\n",
    "LSTM_model.add(Dense(128, activation='relu', input_shape=(fnum,)))\n",
    "LSTM_model.add(Reshape((128, 1)))  # Reshape for LSTM\n",
    "LSTM_model.add(LSTM(64))\n",
    "LSTM_model.add(Dropout(0.5))  \n",
    "LSTM_model.add(Dense(cnum, activation='softmax'))"
   ]
  },
  {
   "cell_type": "code",
   "execution_count": 260,
   "id": "7f522928",
   "metadata": {},
   "outputs": [
    {
     "name": "stdout",
     "output_type": "stream",
     "text": [
      "Model: \"sequential_35\"\n",
      "_________________________________________________________________\n",
      " Layer (type)                Output Shape              Param #   \n",
      "=================================================================\n",
      " dense_56 (Dense)            (None, 128)               38528     \n",
      "                                                                 \n",
      " reshape_8 (Reshape)         (None, 128, 1)            0         \n",
      "                                                                 \n",
      " lstm_7 (LSTM)               (None, 64)                16896     \n",
      "                                                                 \n",
      " dense_57 (Dense)            (None, 3)                 195       \n",
      "                                                                 \n",
      "=================================================================\n",
      "Total params: 55619 (217.26 KB)\n",
      "Trainable params: 55619 (217.26 KB)\n",
      "Non-trainable params: 0 (0.00 Byte)\n",
      "_________________________________________________________________\n"
     ]
    }
   ],
   "source": [
    "LSTM_model.summary()"
   ]
  },
  {
   "cell_type": "code",
   "execution_count": 252,
   "id": "a62dc99a",
   "metadata": {},
   "outputs": [],
   "source": [
    "LSTM_model.compile(loss='categorical_crossentropy', optimizer='adam', metrics=['accuracy'])"
   ]
  },
  {
   "cell_type": "code",
   "execution_count": 253,
   "id": "bf97cf63",
   "metadata": {},
   "outputs": [],
   "source": [
    "LSTM_model = lstm_model(input_shape, output_shape)"
   ]
  },
  {
   "cell_type": "code",
   "execution_count": 254,
   "id": "742fdb3b",
   "metadata": {},
   "outputs": [
    {
     "name": "stdout",
     "output_type": "stream",
     "text": [
      "Epoch 1/10\n",
      "38/38 [==============================] - 6s 66ms/step - loss: 1.0980 - accuracy: 0.3551 - val_loss: 1.0887 - val_accuracy: 0.5034\n",
      "Epoch 2/10\n",
      "38/38 [==============================] - 1s 39ms/step - loss: 0.9380 - accuracy: 0.5687 - val_loss: 0.8157 - val_accuracy: 0.6376\n",
      "Epoch 3/10\n",
      "38/38 [==============================] - 2s 43ms/step - loss: 0.6339 - accuracy: 0.7479 - val_loss: 0.7788 - val_accuracy: 0.6846\n",
      "Epoch 4/10\n",
      "38/38 [==============================] - 2s 42ms/step - loss: 0.4572 - accuracy: 0.8183 - val_loss: 0.7271 - val_accuracy: 0.7114\n",
      "Epoch 5/10\n",
      "38/38 [==============================] - 2s 47ms/step - loss: 0.3549 - accuracy: 0.8576 - val_loss: 1.1401 - val_accuracy: 0.5570\n",
      "Epoch 6/10\n",
      "38/38 [==============================] - 2s 48ms/step - loss: 0.4383 - accuracy: 0.8451 - val_loss: 0.7149 - val_accuracy: 0.6980\n",
      "Epoch 7/10\n",
      "38/38 [==============================] - 2s 41ms/step - loss: 0.2891 - accuracy: 0.8886 - val_loss: 0.9205 - val_accuracy: 0.6711\n",
      "Epoch 8/10\n",
      "38/38 [==============================] - 2s 41ms/step - loss: 0.2360 - accuracy: 0.9146 - val_loss: 1.0215 - val_accuracy: 0.7315\n",
      "Epoch 9/10\n",
      "38/38 [==============================] - 2s 40ms/step - loss: 0.2730 - accuracy: 0.8945 - val_loss: 0.7992 - val_accuracy: 0.6711\n",
      "Epoch 10/10\n",
      "38/38 [==============================] - 2s 44ms/step - loss: 0.2249 - accuracy: 0.9062 - val_loss: 1.0101 - val_accuracy: 0.6980\n"
     ]
    }
   ],
   "source": [
    "history=LSTM_model.fit(x_train, y_train, epochs=10, validation_data=(x_val, y_val))"
   ]
  },
  {
   "cell_type": "code",
   "execution_count": 255,
   "id": "90f23533",
   "metadata": {},
   "outputs": [
    {
     "name": "stdout",
     "output_type": "stream",
     "text": [
      "5/5 [==============================] - 0s 14ms/step - loss: 0.9469 - accuracy: 0.7600\n",
      "accuracy: 75.99999904632568\n"
     ]
    }
   ],
   "source": [
    "score = LSTM_model.evaluate(x_test,y_test)\n",
    "print(\"accuracy:\", score[1]*100)"
   ]
  },
  {
   "cell_type": "code",
   "execution_count": 256,
   "id": "e40fbd99",
   "metadata": {},
   "outputs": [
    {
     "data": {
      "image/png": "[encoded data removed]",
      "text/plain": [
       "<Figure size 640x480 with 1 Axes>"
      ]
     },
     "metadata": {},
     "output_type": "display_data"
    }
   ],
   "source": [
    "plt.figure()\n",
    "plt.plot(history.history[\"accuracy\"],label=\"Train\");\n",
    "plt.plot(history.history[\"val_accuracy\"],label=\"Test\");\n",
    "plt.title(\"Accuracy\")\n",
    "plt.ylabel(\"Accuracy\")\n",
    "plt.xlabel(\"Epochs\")\n",
    "plt.legend()\n",
    "plt.show()"
   ]
  },
  {
   "cell_type": "code",
   "execution_count": 257,
   "id": "89316bd7",
   "metadata": {},
   "outputs": [
    {
     "data": {
      "image/png": "[encoded data removed]",
      "text/plain": [
       "<Figure size 640x480 with 1 Axes>"
      ]
     },
     "metadata": {},
     "output_type": "display_data"
    }
   ],
   "source": [
    "plt.figure()\n",
    "plt.plot(history.history[\"loss\"],label=\"Train\");\n",
    "plt.plot(history.history[\"val_loss\"],label=\"Test\");\n",
    "plt.title(\"Loss\")\n",
    "plt.ylabel(\"Loss\")\n",
    "plt.xlabel(\"Epochs\")\n",
    "plt.legend()\n",
    "plt.show()"
   ]
  },
  {
   "cell_type": "code",
   "execution_count": 258,
   "id": "3a965a43",
   "metadata": {},
   "outputs": [
    {
     "name": "stdout",
     "output_type": "stream",
     "text": [
      "5/5 [==============================] - 1s 13ms/step\n"
     ]
    }
   ],
   "source": [
    "from sklearn.metrics import confusion_matrix, ConfusionMatrixDisplay\n",
    "from tensorflow.keras.models import load_model\n",
    "\n",
    "Y_pred = LSTM_model.predict(X_test)\n",
    "Y_pred = Y_pred.argmax(axis=1)\n",
    "Y_true = y_test.argmax(axis=1)"
   ]
  },
  {
   "cell_type": "code",
   "execution_count": 261,
   "id": "98c1e388",
   "metadata": {},
   "outputs": [
    {
     "data": {
      "text/plain": [
       "array([2, 0, 1, 1, 2, 1, 0, 1, 1, 1, 1, 1, 2, 2, 2, 0, 0, 2, 0, 0, 2, 2,\n",
       "       2, 0, 0, 0, 1, 0, 2, 0, 1, 1, 1, 2, 0, 2, 0, 2, 2, 2, 2, 0, 0, 2,\n",
       "       2, 2, 2, 2, 1, 1, 0, 1, 0, 1, 0, 0, 1, 2, 2, 2, 2, 1, 1, 0, 1, 0,\n",
       "       2, 1, 0, 1, 0, 1, 0, 2, 0, 0, 2, 1, 0, 2, 1, 0, 0, 0, 1, 1, 2, 0,\n",
       "       1, 2, 2, 2, 2, 0, 2, 0, 1, 1, 0, 0, 0, 1, 1, 0, 1, 0, 0, 2, 2, 2,\n",
       "       0, 1, 0, 2, 1, 0, 0, 1, 2, 0, 0, 1, 2, 2, 1, 2, 0, 0, 0, 2, 1, 1,\n",
       "       2, 0, 1, 2, 2, 1, 2, 2, 0, 2, 0, 2, 1, 1, 1, 0, 0, 1])"
      ]
     },
     "execution_count": 261,
     "metadata": {},
     "output_type": "execute_result"
    }
   ],
   "source": [
    "Y_pred"
   ]
  },
  {
   "cell_type": "code",
   "execution_count": 262,
   "id": "474d3b54",
   "metadata": {},
   "outputs": [
    {
     "data": {
      "text/plain": [
       "array([0, 2, 1, 2, 1, 1, 1, 1, 0, 2, 2, 0, 0, 0, 1, 0, 1, 2, 0, 1, 2, 2,\n",
       "       0, 2, 2, 1, 0, 0, 0, 2, 1, 1, 1, 0, 2, 1, 0, 0, 1, 2, 2, 2, 1, 1,\n",
       "       0, 0, 0, 2, 0, 1, 1, 2, 1, 2, 1, 0, 1, 0, 1, 1, 1, 1, 2, 1, 0, 2,\n",
       "       0, 0, 0, 1, 0, 0, 2, 1, 0, 0, 2, 0, 1, 1, 1, 2, 0, 0, 1, 2, 2, 1,\n",
       "       1, 2, 1, 2, 2, 2, 0, 2, 2, 1, 0, 1, 1, 0, 1, 0, 0, 2, 1, 0, 0, 1,\n",
       "       1, 2, 0, 1, 1, 2, 0, 2, 1, 2, 1, 0, 2, 2, 2, 2, 0, 0, 1, 2, 2, 2,\n",
       "       0, 2, 1, 0, 1, 1, 0, 0, 2, 1, 1, 2, 0, 0, 1, 1, 2, 1])"
      ]
     },
     "execution_count": 262,
     "metadata": {},
     "output_type": "execute_result"
    }
   ],
   "source": [
    "Y_true"
   ]
  },
  {
   "cell_type": "code",
   "execution_count": 259,
   "id": "dfd6c2e4",
   "metadata": {},
   "outputs": [
    {
     "name": "stdout",
     "output_type": "stream",
     "text": [
      "[[17 13 19]\n",
      " [19 20 16]\n",
      " [17 13 16]]\n"
     ]
    },
    {
     "data": {
      "image/png": "[encoded data removed]",
      "text/plain": [
       "<Figure size 1000x800 with 2 Axes>"
      ]
     },
     "metadata": {},
     "output_type": "display_data"
    }
   ],
   "source": [
    "# Confusion matrix\n",
    "cm = confusion_matrix(Y_true, Y_pred)\n",
    "print(cm)\n",
    "import seaborn as sns\n",
    "import matplotlib.pyplot as plt\n",
    "\n",
    "plt.figure(figsize=(10, 8))\n",
    "sns.heatmap(cm, annot=True, fmt='d', cmap='Blues',\n",
    "            xticklabels=label_encoder.classes_,\n",
    "            yticklabels=label_encoder.classes_)\n",
    "plt.title('Confusion Matrix- LSTM')\n",
    "plt.ylabel('True Label')\n",
    "plt.xlabel('Predicted Label')\n",
    "plt.show()"
   ]
  }
 ],
 "metadata": {
  "kernelspec": {
   "display_name": "Python 3 (ipykernel)",
   "language": "python",
   "name": "python3"
  },
  "language_info": {
   "codemirror_mode": {
    "name": "ipython",
    "version": 3
   },
   "file_extension": ".py",
   "mimetype": "text/x-python",
   "name": "python",
   "nbconvert_exporter": "python",
   "pygments_lexer": "ipython3",
   "version": "3.11.4"
  }
 },
 "nbformat": 4,
 "nbformat_minor": 5
}
